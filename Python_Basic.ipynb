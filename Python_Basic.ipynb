{
  "nbformat": 4,
  "nbformat_minor": 0,
  "metadata": {
    "colab": {
      "provenance": []
    },
    "kernelspec": {
      "name": "python3",
      "display_name": "Python 3"
    },
    "language_info": {
      "name": "python"
    }
  },
  "cells": [
    {
      "cell_type": "code",
      "execution_count": null,
      "metadata": {
        "id": "hmG6joxNfXoy"
      },
      "outputs": [],
      "source": []
    },
    {
      "cell_type": "markdown",
      "source": [
        "# Python Basics Questions\n"
      ],
      "metadata": {
        "id": "Hrz7kniifg9_"
      }
    },
    {
      "cell_type": "markdown",
      "source": [
        "1. What is Python, and why is it popular ?\n",
        "  - Python is a high-level, general-purpose programming language known for its readability and versatility.\n",
        "  Python is popular because -\n",
        "  -- ease to learning.\n",
        "  -- it can interact with any other tools available. for example, python can be intergrade with all other Programming Language, it can be used with data base as well.\n",
        "  -- Use community support.\n",
        "  -- Python as of now is the most significant library for ML and AI\n",
        "\n",
        "\n",
        "2. What is an interpreter in Python ?\n",
        "  - a program that reads and executes Python code line by line, allowing you to see the results immediately\n",
        "\n",
        "\n",
        "3. What are pre-defined keywords in Python ?\n",
        "  - Print and Help\n",
        "\n",
        "4. Can keywords be used as variable names ?\n",
        "  - No, keywords cannot be used as variable names in most programming languages.\n",
        "\n",
        "5. What is mutability in Python ?\n",
        "  - Mutability is Python is you can Edit the value & Change the value.\n",
        "\n",
        "6. Why are lists mutable, but tuples are immutable ?\n",
        "  - Lists are mutable because you can change the order of items in a list or reassign an item in a list but tuples use parentheses instead of square brackets, and the items in tuples cannot be modified.\n",
        "\n",
        "7. What is the difference between “==” and “is” operators in Python ?\n",
        "  - The \"==\" operator checks for equality of value, while the \"is\" operator checks for identity.\n",
        "\n",
        "8. What are logical operators in Python ?\n",
        "  - and, or, and not.\n",
        "\n",
        "9. What is type casting in Python ?\n",
        "  - Type casting is a process of converting a variable from one data type to another.\n",
        "\n",
        "10.  What is the difference between implicit and explicit type casting ?\n",
        "  - Implicit type casting happens automatically by the compiler, while explicit type casting requires the programmer to define the conversion using specific syntax.\n",
        "\n",
        "11. What is the purpose of conditional statements in Python ?\n",
        "  - The primary conditional statements in Python are if, elif, and else.\n",
        "  if statement:\n",
        "  This statement evaluates a condition. If the condition is true, the code block indented under the if statement is executed.\n",
        "  elif statement:\n",
        "  Short for \"else if,\" it allows for checking multiple conditions in sequence. If the preceding if or elif conditions are false, the elif condition is evaluated. If it's true, its corresponding code block is executed.\n",
        "  else statement:\n",
        "  This statement provides a default code block to be executed if none of the preceding if or elif conditions are true.\n",
        "\n",
        "12. How does the elif statement work ?\n",
        "  - if the first condition is false, it moves on to the next “elif” statement to check if that condition is true.\n",
        "\n",
        "13. What is the difference between for and while loops ?\n",
        "  - \"for\" loop is typically used when the number of iterations is known beforehand, and it iterates over a sequence or range and \"while\" loop, on the other hand, repeats a block of code until a condition becomes false, making it suitable when the number of iterations is not predetermined.\n",
        "\n",
        "14. Describe a scenario where a while loop is more suitable than a for loop?\n",
        "  - a \"while\" loop is best used when you don't know the number of iterations in advance.\n",
        "\n",
        "\n",
        "\n"
      ],
      "metadata": {
        "id": "zgEHW-dwfzuY"
      }
    },
    {
      "cell_type": "code",
      "source": [],
      "metadata": {
        "id": "9R7v1P77fsIv"
      },
      "execution_count": null,
      "outputs": []
    },
    {
      "cell_type": "markdown",
      "source": [
        "# Practical Questions\n"
      ],
      "metadata": {
        "id": "0uYddkumdMzy"
      }
    },
    {
      "cell_type": "code",
      "source": [],
      "metadata": {
        "id": "duMpS1QzdRDd"
      },
      "execution_count": null,
      "outputs": []
    },
    {
      "cell_type": "markdown",
      "source": [
        "1. Write a Python program to print \"Hello, World!"
      ],
      "metadata": {
        "id": "H5iEZQKOdSFB"
      }
    },
    {
      "cell_type": "code",
      "source": [
        "print (\"Hello world\")"
      ],
      "metadata": {
        "colab": {
          "base_uri": "https://localhost:8080/"
        },
        "id": "tsiRUKI5dZ49",
        "outputId": "afab2fc1-b8ff-4ca8-f6b8-e7bd24f2da30"
      },
      "execution_count": null,
      "outputs": [
        {
          "output_type": "stream",
          "name": "stdout",
          "text": [
            "Hello world\n"
          ]
        }
      ]
    },
    {
      "cell_type": "code",
      "source": [],
      "metadata": {
        "id": "XNR7cWSzdfRv"
      },
      "execution_count": null,
      "outputs": []
    },
    {
      "cell_type": "markdown",
      "source": [
        "2. Write a Python program that displays your name and age"
      ],
      "metadata": {
        "id": "_cNkHyCPdmc6"
      }
    },
    {
      "cell_type": "code",
      "source": [
        "name = (\"Biraj Kalita\")\n",
        "age = (30)\n",
        "print(\"Name:\", name)\n",
        "print(\"Age:\", age)"
      ],
      "metadata": {
        "colab": {
          "base_uri": "https://localhost:8080/"
        },
        "id": "9klkZEz0dsik",
        "outputId": "3ea9af17-06fb-4664-8bb9-9f9ec15b6783"
      },
      "execution_count": null,
      "outputs": [
        {
          "output_type": "stream",
          "name": "stdout",
          "text": [
            "Name: Biraj Kalita\n",
            "Age: 30\n"
          ]
        }
      ]
    },
    {
      "cell_type": "code",
      "source": [],
      "metadata": {
        "id": "U8YH4g4NfDL5"
      },
      "execution_count": null,
      "outputs": []
    },
    {
      "cell_type": "markdown",
      "source": [
        "3. Write code to print all the pre-defined keywords in Python using the keyword library"
      ],
      "metadata": {
        "id": "SUdYx5tgfEOu"
      }
    },
    {
      "cell_type": "code",
      "source": [
        "import keyword\n",
        "\n",
        "print(keyword.kwlist)"
      ],
      "metadata": {
        "colab": {
          "base_uri": "https://localhost:8080/"
        },
        "id": "0WMcPNAWfHWQ",
        "outputId": "c16eb13f-b245-400d-e0d4-432597522d1c"
      },
      "execution_count": null,
      "outputs": [
        {
          "output_type": "stream",
          "name": "stdout",
          "text": [
            "['False', 'None', 'True', 'and', 'as', 'assert', 'async', 'await', 'break', 'class', 'continue', 'def', 'del', 'elif', 'else', 'except', 'finally', 'for', 'from', 'global', 'if', 'import', 'in', 'is', 'lambda', 'nonlocal', 'not', 'or', 'pass', 'raise', 'return', 'try', 'while', 'with', 'yield']\n"
          ]
        }
      ]
    },
    {
      "cell_type": "markdown",
      "source": [
        "4. Write a program that checks if a given word is a Python keyword"
      ],
      "metadata": {
        "id": "l0KbS8M9gESz"
      }
    },
    {
      "cell_type": "markdown",
      "source": [
        "  - import Keywords"
      ],
      "metadata": {
        "id": "ACSYrL1yUJ65"
      }
    },
    {
      "cell_type": "markdown",
      "source": [
        "5. Create a list and tuple in Python, and demonstrate how attempting to change an element works differently\n",
        "for each."
      ],
      "metadata": {
        "id": "j2w1BNfEgc8Z"
      }
    },
    {
      "cell_type": "markdown",
      "source": [
        "  -"
      ],
      "metadata": {
        "id": "VK8Wg2tqWW8s"
      }
    },
    {
      "cell_type": "markdown",
      "source": [
        "6.  Write a function to demonstrate the behavior of mutable and immutable arguments"
      ],
      "metadata": {
        "id": "BtbAOd2aUOlf"
      }
    },
    {
      "cell_type": "markdown",
      "source": [
        "  -"
      ],
      "metadata": {
        "id": "9M1q8lJgWN91"
      }
    },
    {
      "cell_type": "markdown",
      "source": [
        "7. Write a program that performs basic arithmetic operations on two user-input numbers"
      ],
      "metadata": {
        "id": "5h0cP2OZWbxD"
      }
    },
    {
      "cell_type": "markdown",
      "source": [
        "  -"
      ],
      "metadata": {
        "id": "Mk2_TdVWWeiE"
      }
    },
    {
      "cell_type": "markdown",
      "source": [
        "8.  Write a program to demonstrate the use of logical operators"
      ],
      "metadata": {
        "id": "IHr_5_ElWgPT"
      }
    },
    {
      "cell_type": "markdown",
      "source": [
        "  -"
      ],
      "metadata": {
        "id": "fwKt3pAvWirk"
      }
    },
    {
      "cell_type": "markdown",
      "source": [
        "9. Write a Python program to convert user input from string to integer, float, and boolean types"
      ],
      "metadata": {
        "id": "YozFLHiPWj_T"
      }
    },
    {
      "cell_type": "markdown",
      "source": [
        "  -"
      ],
      "metadata": {
        "id": "IiL2zAvcWmdF"
      }
    },
    {
      "cell_type": "markdown",
      "source": [
        "10.  Write code to demonstrate type casting with list elements."
      ],
      "metadata": {
        "id": "nIWUjR6JWnYE"
      }
    },
    {
      "cell_type": "markdown",
      "source": [
        "  -"
      ],
      "metadata": {
        "id": "Ea3CQB5hWqfT"
      }
    },
    {
      "cell_type": "markdown",
      "source": [
        "11. Write a program that checks if a number is positive, negative, or zero"
      ],
      "metadata": {
        "id": "Q75YNDz7Wrpc"
      }
    },
    {
      "cell_type": "markdown",
      "source": [
        "  -"
      ],
      "metadata": {
        "id": "RGOowzVoWt5T"
      }
    },
    {
      "cell_type": "markdown",
      "source": [
        "12. Write a for loop to print numbers from 1 to 10."
      ],
      "metadata": {
        "id": "y3qsIu4wWulr"
      }
    },
    {
      "cell_type": "markdown",
      "source": [
        "  -"
      ],
      "metadata": {
        "id": "v2ZUUfVCWw07"
      }
    },
    {
      "cell_type": "markdown",
      "source": [
        "13. Write a Python program to find the sum of all even numbers between 1 and 50"
      ],
      "metadata": {
        "id": "y8Jm3bgrWx_D"
      }
    },
    {
      "cell_type": "markdown",
      "source": [
        "  -"
      ],
      "metadata": {
        "id": "-yMUDATwW157"
      }
    },
    {
      "cell_type": "markdown",
      "source": [
        "14. Write a program to reverse a string using a while loop."
      ],
      "metadata": {
        "id": "_Gk5NfJ8W2uM"
      }
    },
    {
      "cell_type": "markdown",
      "source": [
        "  -"
      ],
      "metadata": {
        "id": "YD119CvDW5M0"
      }
    },
    {
      "cell_type": "markdown",
      "source": [
        "15. Write a Python program to calculate the factorial of a number provided by the user using a while loop"
      ],
      "metadata": {
        "id": "0m37Ll4fW6N0"
      }
    },
    {
      "cell_type": "code",
      "source": [],
      "metadata": {
        "id": "M0zriQxnVysh"
      },
      "execution_count": null,
      "outputs": []
    },
    {
      "cell_type": "markdown",
      "source": [
        "  -"
      ],
      "metadata": {
        "id": "gUiOeYztVzDt"
      }
    }
  ]
}